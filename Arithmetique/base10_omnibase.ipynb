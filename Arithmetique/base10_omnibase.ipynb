{
 "cells": [
  {
   "cell_type": "code",
   "execution_count": 1,
   "metadata": {},
   "outputs": [],
   "source": [
    "def base10_base2(n):\n",
    "    ch = \"\"\n",
    "    ch1 = \"\"\n",
    "    while n != 0:\n",
    "        ch += str(n % 2)\n",
    "        n = n // 2\n",
    "    for i in range(len(ch)):\n",
    "        ch1 = ch[i] + ch1\n",
    "    return ch1"
   ]
  },
  {
   "cell_type": "code",
   "execution_count": 5,
   "metadata": {},
   "outputs": [
    {
     "data": {
      "text/plain": [
       "'100'"
      ]
     },
     "execution_count": 5,
     "metadata": {},
     "output_type": "execute_result"
    }
   ],
   "source": [
    "base10_base2(4)"
   ]
  },
  {
   "cell_type": "code",
   "execution_count": 111,
   "metadata": {},
   "outputs": [],
   "source": [
    "def base10_base8(n):\n",
    "    ch = \"\"\n",
    "    ch1 = \"\"\n",
    "    while n != 0:\n",
    "        ch += str(n % 8)\n",
    "        n = n // 8\n",
    "    for i in range(len(ch)):\n",
    "        ch1 = ch[i] + ch1\n",
    "    return ch1"
   ]
  },
  {
   "cell_type": "code",
   "execution_count": 112,
   "metadata": {},
   "outputs": [
    {
     "data": {
      "text/plain": [
       "'46'"
      ]
     },
     "execution_count": 112,
     "metadata": {},
     "output_type": "execute_result"
    }
   ],
   "source": [
    "base10_base8(38)"
   ]
  },
  {
   "cell_type": "code",
   "execution_count": 113,
   "metadata": {},
   "outputs": [],
   "source": [
    "def base10_base16(n):\n",
    "    ch = \"\"\n",
    "    ch1 = \"\"\n",
    "    while n != 0:\n",
    "        if not(n % 16 < 10):\n",
    "            ch = ch + chr(ord(\"A\") + (n % 16) - 10)\n",
    "        else:\n",
    "            ch += str(n % 16)\n",
    "        n = n // 16\n",
    "    for i in range(len(ch)):\n",
    "        ch1 = ch[i] + ch1\n",
    "    \n",
    "    return ch1"
   ]
  },
  {
   "cell_type": "code",
   "execution_count": 114,
   "metadata": {},
   "outputs": [
    {
     "data": {
      "text/plain": [
       "'8E'"
      ]
     },
     "execution_count": 114,
     "metadata": {},
     "output_type": "execute_result"
    }
   ],
   "source": [
    "base10_base16(142)"
   ]
  }
 ],
 "metadata": {
  "kernelspec": {
   "display_name": "Python 3",
   "language": "python",
   "name": "python3"
  },
  "language_info": {
   "codemirror_mode": {
    "name": "ipython",
    "version": 3
   },
   "file_extension": ".py",
   "mimetype": "text/x-python",
   "name": "python",
   "nbconvert_exporter": "python",
   "pygments_lexer": "ipython3",
   "version": "3.11.9"
  }
 },
 "nbformat": 4,
 "nbformat_minor": 2
}
