{
 "cells": [
  {
   "cell_type": "code",
   "execution_count": 84,
   "metadata": {},
   "outputs": [],
   "source": [
    "def puissance(n, p):\n",
    "    s = 1\n",
    "    for i in range(p):\n",
    "        s *= n\n",
    "    return s"
   ]
  },
  {
   "cell_type": "code",
   "execution_count": 85,
   "metadata": {},
   "outputs": [],
   "source": [
    "def conv(ch, base):\n",
    "    s = 0\n",
    "    for i in range(len(ch)):\n",
    "        if '0' <= ch[i] <= '9':\n",
    "            k = int(ch[i])\n",
    "        else:\n",
    "            k = ord(ch[i]) - 55\n",
    "        s = s + k*puissance(base, len(ch) - i - 1)\n",
    "    return s"
   ]
  },
  {
   "cell_type": "code",
   "execution_count": 86,
   "metadata": {},
   "outputs": [],
   "source": [
    "def verif(ch):\n",
    "    if ch.isdecimal() == True:\n",
    "        \n",
    "        \n",
    "        # test binaire\n",
    "        test_binaire = True\n",
    "        i_binaire = 0\n",
    "        max = 0\n",
    "        while test_binaire != False and i_binaire != len(ch):\n",
    "            if ch[i_binaire] != \"0\" or ch[i_binaire] != \"1\":\n",
    "                test_binaire = False\n",
    "            else:\n",
    "                i += 1\n",
    "        if test_binaire == True:\n",
    "            base = 2\n",
    "        \n",
    "        \n",
    "        #test base n < 10\n",
    "        else:\n",
    "            for j in range(len(ch)):\n",
    "                if int(ch[j]) > int(max):\n",
    "                    max = ch[j]\n",
    "            base = int(max) + 1\n",
    "            \n",
    "    #test hex\n",
    "    else:\n",
    "    \n",
    "        ch1 = \"\"\n",
    "        max_hex = \"A\"\n",
    "        for k in range(len(ch)):\n",
    "            if ch[k].isdecimal() == False:\n",
    "                ch1 += ch[k]\n",
    "        for hex in range(len(ch1)):\n",
    "            if ch1[hex] > max_hex:\n",
    "                max_hex = ch1[hex]\n",
    "        base = ord(max_hex) - 54\n",
    "    return base"
   ]
  }
 ],
 "metadata": {
  "kernelspec": {
   "display_name": "Python 3",
   "language": "python",
   "name": "python3"
  },
  "language_info": {
   "codemirror_mode": {
    "name": "ipython",
    "version": 3
   },
   "file_extension": ".py",
   "mimetype": "text/x-python",
   "name": "python",
   "nbconvert_exporter": "python",
   "pygments_lexer": "ipython3",
   "version": "3.11.9"
  }
 },
 "nbformat": 4,
 "nbformat_minor": 2
}
