{
 "cells": [
  {
   "cell_type": "code",
   "execution_count": 11,
   "metadata": {},
   "outputs": [],
   "source": [
    "def bresilien(n):\n",
    "    \n",
    "\n",
    "    \n",
    "    if n < 3:\n",
    "        return False\n",
    "\n",
    "    test = False\n",
    "\n",
    "    for base in range(2, n - 1):\n",
    "        \n",
    "        for i in range(1, base):\n",
    "            \n",
    "            valeur = 0\n",
    "            k = 0\n",
    "            existe = False\n",
    "            \n",
    "            while not existe and valeur <= n:\n",
    "                \n",
    "                puissance = 1\n",
    "                \n",
    "                for j in range(k):\n",
    "                    \n",
    "                    puissance *= base\n",
    "                valeur += i * puissance\n",
    "                \n",
    "                if valeur == n:\n",
    "                    \n",
    "                    test = True\n",
    "                    existe = True\n",
    "                    \n",
    "                k += 1\n",
    "\n",
    "    return test"
   ]
  }
 ],
 "metadata": {
  "kernelspec": {
   "display_name": "Python 3",
   "language": "python",
   "name": "python3"
  },
  "language_info": {
   "codemirror_mode": {
    "name": "ipython",
    "version": 3
   },
   "file_extension": ".py",
   "mimetype": "text/x-python",
   "name": "python",
   "nbconvert_exporter": "python",
   "pygments_lexer": "ipython3",
   "version": "3.11.9"
  }
 },
 "nbformat": 4,
 "nbformat_minor": 2
}
