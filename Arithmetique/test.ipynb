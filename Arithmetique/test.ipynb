{
 "cells": [
  {
   "cell_type": "markdown",
   "metadata": {},
   "source": [
    "Base10 ---> Omnibase"
   ]
  },
  {
   "cell_type": "code",
   "execution_count": 13,
   "metadata": {},
   "outputs": [],
   "source": [
    "def base10_omnibase(n, b):\n",
    "    ch = \"\"\n",
    "    \n",
    "    while n != 0:\n",
    "        r = n % b\n",
    "        if r >= 10:\n",
    "            ch1 = chr(r + 55) \n",
    "        else:\n",
    "            ch1 = str(r)  \n",
    "        ch = ch1 + ch\n",
    "        n = n // b\n",
    "    \n",
    "    return ch     "
   ]
  },
  {
   "cell_type": "code",
   "execution_count": 14,
   "metadata": {},
   "outputs": [
    {
     "data": {
      "text/plain": [
       "'26'"
      ]
     },
     "execution_count": 14,
     "metadata": {},
     "output_type": "execute_result"
    }
   ],
   "source": [
    "base10_omnibase(38, 16)"
   ]
  },
  {
   "cell_type": "markdown",
   "metadata": {},
   "source": [
    "Omnibase ---> Base_10"
   ]
  },
  {
   "cell_type": "code",
   "execution_count": 15,
   "metadata": {},
   "outputs": [],
   "source": [
    "def puissance(n, p):\n",
    "    s = 1\n",
    "    for i in range(p):\n",
    "        s *= n\n",
    "    return s"
   ]
  },
  {
   "cell_type": "code",
   "execution_count": 16,
   "metadata": {},
   "outputs": [],
   "source": [
    "def conv(ch, base):\n",
    "    s = 0\n",
    "    for i in range(len(ch)):\n",
    "        if '0' <= ch[i] <= '9':\n",
    "            k = int(ch[i])\n",
    "        else:\n",
    "            k = ord(ch[i]) - 55\n",
    "        s = s + k*puissance(base, len(ch) - i - 1)\n",
    "    return s"
   ]
  }
 ],
 "metadata": {
  "kernelspec": {
   "display_name": "Python 3",
   "language": "python",
   "name": "python3"
  },
  "language_info": {
   "codemirror_mode": {
    "name": "ipython",
    "version": 3
   },
   "file_extension": ".py",
   "mimetype": "text/x-python",
   "name": "python",
   "nbconvert_exporter": "python",
   "pygments_lexer": "ipython3",
   "version": "3.11.9"
  }
 },
 "nbformat": 4,
 "nbformat_minor": 2
}
