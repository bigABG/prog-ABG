{
 "cells": [
  {
   "cell_type": "markdown",
   "metadata": {},
   "source": [
    "Base10 ---> Omnibase"
   ]
  },
  {
   "cell_type": "code",
   "execution_count": 1,
   "metadata": {},
   "outputs": [],
   "source": [
    "def base10_omnibase(n, b):\n",
    "    ch = \"\"\n",
    "    ch1 = \"\"\n",
    "    while n != 0:\n",
    "        if b >= 10:\n",
    "            if not(n % b < 10):\n",
    "                ch = ch + chr(ord(\"A\") + (n % b) - 10)\n",
    "            else:\n",
    "                ch += str(n % b)\n",
    "            n = n // b\n",
    "        else:\n",
    "            ch += str(n % b)\n",
    "            n = n // b\n",
    "    for i in range(len(ch)):\n",
    "        ch1 = ch[i] + ch1\n",
    "    \n",
    "    return ch1        "
   ]
  },
  {
   "cell_type": "code",
   "execution_count": 5,
   "metadata": {},
   "outputs": [
    {
     "data": {
      "text/plain": [
       "'26'"
      ]
     },
     "execution_count": 5,
     "metadata": {},
     "output_type": "execute_result"
    }
   ],
   "source": [
    "base10_omnibase(38, 16)"
   ]
  },
  {
   "cell_type": "markdown",
   "metadata": {},
   "source": [
    "Omnibase ---> Base_10"
   ]
  },
  {
   "cell_type": "code",
   "execution_count": 6,
   "metadata": {},
   "outputs": [],
   "source": [
    "def puissance(n, p):\n",
    "    s = 1\n",
    "    for i in range(p):\n",
    "        s *= n\n",
    "    return s"
   ]
  },
  {
   "cell_type": "code",
   "execution_count": null,
   "metadata": {},
   "outputs": [],
   "source": [
    "def conv(ch, base):\n",
    "    s = 0\n",
    "    for i in range(len(ch)):\n",
    "        if '0' <= ch[i] <= '9':\n",
    "            k = int(ch[i])\n",
    "        else:\n",
    "            k = ord(ch[i]) - 55\n",
    "        s = s + k*puissance(base, len(ch) - i - 1)\n",
    "    return s"
   ]
  }
 ],
 "metadata": {
  "kernelspec": {
   "display_name": "Python 3",
   "language": "python",
   "name": "python3"
  },
  "language_info": {
   "codemirror_mode": {
    "name": "ipython",
    "version": 3
   },
   "file_extension": ".py",
   "mimetype": "text/x-python",
   "name": "python",
   "nbconvert_exporter": "python",
   "pygments_lexer": "ipython3",
   "version": "3.11.9"
  }
 },
 "nbformat": 4,
 "nbformat_minor": 2
}
