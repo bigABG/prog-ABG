{
 "cells": [
  {
   "cell_type": "code",
   "execution_count": 76,
   "metadata": {},
   "outputs": [],
   "source": [
    "from math import sqrt"
   ]
  },
  {
   "cell_type": "code",
   "execution_count": 77,
   "metadata": {},
   "outputs": [],
   "source": [
    "def suite(n):\n",
    "    if n == 1:\n",
    "        return sqrt(2)\n",
    "    else:\n",
    "        return sqrt(2 + suite(n - 1))"
   ]
  },
  {
   "cell_type": "code",
   "execution_count": 78,
   "metadata": {},
   "outputs": [],
   "source": [
    "def approxiamtion_pi():\n",
    "    i = 2\n",
    "    pi_1 = sqrt(2) # 2/suite(1) = 2/U1\n",
    "    pi_2  = sqrt(2) * (2/suite(i)) # 2/U1 * 2/Ui\n",
    "    \n",
    "    while not(pi_2 - pi_1 <= 0.0001):\n",
    "        pi_1 = pi_2\n",
    "        i += 1\n",
    "        pi_2 = pi_2 * (2/suite(i))\n",
    "    pi = pi_2 * 2\n",
    "    \n",
    "    return pi"
   ]
  },
  {
   "cell_type": "code",
   "execution_count": 79,
   "metadata": {},
   "outputs": [
    {
     "data": {
      "text/plain": [
       "3.1415729403670922"
      ]
     },
     "execution_count": 79,
     "metadata": {},
     "output_type": "execute_result"
    }
   ],
   "source": [
    "approxiamtion_pi()"
   ]
  }
 ],
 "metadata": {
  "kernelspec": {
   "display_name": "Python 3",
   "language": "python",
   "name": "python3"
  },
  "language_info": {
   "codemirror_mode": {
    "name": "ipython",
    "version": 3
   },
   "file_extension": ".py",
   "mimetype": "text/x-python",
   "name": "python",
   "nbconvert_exporter": "python",
   "pygments_lexer": "ipython3",
   "version": "3.11.9"
  }
 },
 "nbformat": 4,
 "nbformat_minor": 2
}
