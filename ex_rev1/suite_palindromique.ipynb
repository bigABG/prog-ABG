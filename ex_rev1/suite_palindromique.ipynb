{
 "cells": [
  {
   "cell_type": "code",
   "execution_count": 280,
   "metadata": {},
   "outputs": [],
   "source": [
    "from pickle import load, dump"
   ]
  },
  {
   "cell_type": "code",
   "execution_count": 281,
   "metadata": {},
   "outputs": [],
   "source": [
    "def saisie():\n",
    "    n = int(input(\"Donner n: \"))\n",
    "    while not 7 <= n <= 17:\n",
    "        n = int(input(\"Il faux que 7 <= n <= 17: \"))\n",
    "    return n"
   ]
  },
  {
   "cell_type": "code",
   "execution_count": 282,
   "metadata": {},
   "outputs": [],
   "source": [
    "def palindrome(ch):\n",
    "    \n",
    "    test = True\n",
    "    \n",
    "    while (len(ch) != 0) and (test == True):\n",
    "        \n",
    "        if ch[0] == ch[len(ch) - 1]:\n",
    "            \n",
    "            ch = ch[1 : len(ch) - 1]\n",
    "            \n",
    "        else:\n",
    "            \n",
    "            test = False\n",
    "            \n",
    "    return test"
   ]
  },
  {
   "cell_type": "code",
   "execution_count": 283,
   "metadata": {},
   "outputs": [],
   "source": [
    "def chaine_pali(ch):\n",
    "    ch_test = \"01\"\n",
    "    ch_original = ch \n",
    "    suite = \"\"\n",
    "    ch2 = ch\n",
    "    \n",
    "    j = 0\n",
    "    while not palindrome(ch_test):\n",
    "        ch1 = ch[::-1]\n",
    "        ch = str(int(ch) + int(ch1))\n",
    "        \n",
    "        if j ==0:    \n",
    "            suite += ch2 + \":\" + ch + \" \"\n",
    "        elif j > 20:\n",
    "            ch = \"0\"\n",
    "            suite = ch_original + \":\" + ch\n",
    "        else:\n",
    "            suite += ch + \" \"\n",
    "       \n",
    "        ch_test = ch\n",
    "        ch2 = ch\n",
    "        j += 1 \n",
    "\n",
    "    return suite"
   ]
  },
  {
   "cell_type": "code",
   "execution_count": 284,
   "metadata": {},
   "outputs": [],
   "source": [
    "def fibo(n):\n",
    "    if n == 0:\n",
    "        return 1\n",
    "    elif n == 1:\n",
    "        return 1\n",
    "    elif n == 2:\n",
    "        return 2\n",
    "    else:\n",
    "        return fibo(n - 1) + fibo(n - 2)"
   ]
  },
  {
   "cell_type": "code",
   "execution_count": 285,
   "metadata": {},
   "outputs": [],
   "source": [
    "def remplir_nombre(n, nombre):\n",
    "    for i in range(n):\n",
    "        dump(fibo(i), nombre)"
   ]
  },
  {
   "cell_type": "code",
   "execution_count": 286,
   "metadata": {},
   "outputs": [],
   "source": [
    "def remplir(n, nombre, fpalin):\n",
    "    nombre = open(\"nombre.dat\", \"rb\")\n",
    "    Fin_ficher = False\n",
    "    while Fin_ficher == False:\n",
    "        try:\n",
    "            x = load(nombre)\n",
    "            fpalin.write(chaine_pali(str(x)) + \"\\n\")\n",
    "        except:\n",
    "            Fin_ficher = True\n",
    "    nombre.close()"
   ]
  },
  {
   "cell_type": "code",
   "execution_count": 287,
   "metadata": {},
   "outputs": [],
   "source": [
    "n = saisie()\n",
    "nombre = open(\"nombre.dat\", \"wb\")\n",
    "remplir_nombre(n,nombre)\n",
    "nombre.close()\n",
    "fpalin = open(\"fpalin.txt\", \"w\")\n",
    "remplir(n, nombre, fpalin)\n",
    "fpalin.close()"
   ]
  }
 ],
 "metadata": {
  "kernelspec": {
   "display_name": "Python 3",
   "language": "python",
   "name": "python3"
  },
  "language_info": {
   "codemirror_mode": {
    "name": "ipython",
    "version": 3
   },
   "file_extension": ".py",
   "mimetype": "text/x-python",
   "name": "python",
   "nbconvert_exporter": "python",
   "pygments_lexer": "ipython3",
   "version": "3.11.9"
  }
 },
 "nbformat": 4,
 "nbformat_minor": 2
}
