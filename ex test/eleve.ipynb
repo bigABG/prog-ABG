{
 "cells": [
  {
   "cell_type": "code",
   "execution_count": 1,
   "metadata": {},
   "outputs": [],
   "source": [
    "from PyQt5.uic import loadUi\n",
    "from PyQt5.QtWidgets import QApplication,QMessageBox,QTableWidget,QTableWidgetItem\n",
    "e=dict(nom=str,classe=str,num=str,genre=str)\n",
    "from pickle import load,dump\n"
   ]
  },
  {
   "cell_type": "code",
   "execution_count": 2,
   "metadata": {},
   "outputs": [],
   "source": [
    "def verif(ch):\n",
    "    i=0\n",
    "    test=True\n",
    "    while i<len(ch) and test==True:\n",
    "        if \"A\"<=ch[i]<=\"Z\" or \"a\"<=ch[i]<=\"z\":\n",
    "            i+=1\n",
    "        else:\n",
    "            test=False\n",
    "    return test"
   ]
  },
  {
   "cell_type": "code",
   "execution_count": 3,
   "metadata": {},
   "outputs": [],
   "source": [
    "def ajout():\n",
    "    f=open(\"eleve.dat\",\"ab\")\n",
    "    nom=w.l1.text()\n",
    "    classe=w.l2.text()\n",
    "    num=w.l3.text()\n",
    "    hom=w.rh.isChecked()\n",
    "    fem=w.rf.isChecked()\n",
    "    if hom:\n",
    "        genre=w.rh.text()\n",
    "    elif fem:\n",
    "        genre=w.rf.text()\n",
    "    if not (verif(nom) and nom!=\"\" and \"1\"<=classe<=\"4\" and \"1000\"<=num<=\"9999\" and genre!=\"\"):\n",
    "        QMessageBox.critical(w,\"error!\",\"Voud devez saisissez  des donnéés valides !\")\n",
    "    else:\n",
    "        e[\"nom\"]=nom\n",
    "        e[\"classe\"]=classe\n",
    "        e[\"num\"]=num\n",
    "        e[\"genre\"]=genre\n",
    "        dump(e,f)\n",
    "        QMessageBox.information(w,\"info\",\"ajout avec succés\")\n",
    "    w.l1.clear()\n",
    "    w.l2.clear()\n",
    "    w.l3.clear()\n",
    "    w.rh.setChecked(False)\n",
    "    w.rf.setChecked(False)\n",
    "    f.close()"
   ]
  },
  {
   "cell_type": "code",
   "execution_count": 4,
   "metadata": {},
   "outputs": [],
   "source": [
    "def afficher():\n",
    "    f=open(\"eleve.dat\",\"rb\")\n",
    "    w.tbw.setRowCount(20)\n",
    "    w.tbw.setColumnCount(4)\n",
    "    fin=False\n",
    "    i=0\n",
    "    while fin==False:\n",
    "        try:\n",
    "            e=load(f)\n",
    "            w.tbw.setItem(i,0,QTableWidgetItem(e[\"nom\"]))\n",
    "            w.tbw.setItem(i,1,QTableWidgetItem(e[\"classe\"]))\n",
    "            w.tbw.setItem(i,2,QTableWidgetItem(e[\"num\"]))\n",
    "            w.tbw.setItem(i,3,QTableWidgetItem(e[\"genre\"]))\n",
    "            i+=1\n",
    "        except:\n",
    "            fin=True\n",
    "    f.close()"
   ]
  },
  {
   "cell_type": "code",
   "execution_count": 5,
   "metadata": {},
   "outputs": [],
   "source": [
    "def remlplirlist():\n",
    "    f=open(\"eleve.dat\",\"rb\")\n",
    "    f2=open(\"liste.txt\",\"w\")\n",
    "    fin=False\n",
    "    while fin==False:\n",
    "        try:\n",
    "            e=load(f)\n",
    "            if e[\"classe\"]==\"4\":\n",
    "                f2.write(e[\"nom\"]+\"\\n\")\n",
    "        except:\n",
    "            fin=True\n",
    "    f2.close()\n",
    "    f.close()"
   ]
  },
  {
   "cell_type": "code",
   "execution_count": 6,
   "metadata": {},
   "outputs": [],
   "source": [
    "def afflist():\n",
    "    remlplirlist()\n",
    "    f2=open(\"liste.txt\",\"r\")\n",
    "    ch=f2.readline()\n",
    "    ch=ch[:len(ch)-1]\n",
    "    while ch!=\"\":\n",
    "        w.lw.addItem(ch)\n",
    "        ch=f2.readline()\n",
    "        ch=ch[:len(ch)-1]\n",
    "    f2.close()"
   ]
  },
  {
   "cell_type": "code",
   "execution_count": 7,
   "metadata": {},
   "outputs": [
    {
     "data": {
      "text/plain": [
       "0"
      ]
     },
     "execution_count": 7,
     "metadata": {},
     "output_type": "execute_result"
    }
   ],
   "source": [
    "app = QApplication([]) \n",
    "w = loadUi(\"act1.ui\") \n",
    "w.show() \n",
    "w.ajt.clicked.connect (ajout)\n",
    "w.aff.clicked.connect(afficher)\n",
    "w.bac.clicked.connect(afflist)\n",
    "app.exec_()"
   ]
  }
 ],
 "metadata": {
  "kernelspec": {
   "display_name": "Python 3",
   "language": "python",
   "name": "python3"
  },
  "language_info": {
   "codemirror_mode": {
    "name": "ipython",
    "version": 3
   },
   "file_extension": ".py",
   "mimetype": "text/x-python",
   "name": "python",
   "nbconvert_exporter": "python",
   "pygments_lexer": "ipython3",
   "version": "3.11.9"
  }
 },
 "nbformat": 4,
 "nbformat_minor": 2
}
