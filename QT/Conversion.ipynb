{
 "cells": [
  {
   "cell_type": "code",
   "execution_count": 1,
   "metadata": {},
   "outputs": [],
   "source": [
    "from PyQt5.uic import loadUi\n",
    "from PyQt5.QtWidgets import QApplication, QMessageBox"
   ]
  },
  {
   "cell_type": "code",
   "execution_count": 2,
   "metadata": {},
   "outputs": [],
   "source": [
    "def puissance(n, p):\n",
    "    s = 1\n",
    "    for i in range(p):\n",
    "        s *= n\n",
    "    return s"
   ]
  },
  {
   "cell_type": "code",
   "execution_count": 3,
   "metadata": {},
   "outputs": [],
   "source": [
    "def conv(ch, base):\n",
    "    s = 0\n",
    "    for i in range(len(ch)):\n",
    "        if '0' <= ch[i] <= '9':\n",
    "            k = int(ch[i])\n",
    "        else:\n",
    "            k = ord(ch[i]) - 55\n",
    "        s = s + k*puissance(base, len(ch) - i - 1)\n",
    "    return s"
   ]
  },
  {
   "cell_type": "code",
   "execution_count": 4,
   "metadata": {},
   "outputs": [],
   "source": [
    "def Play():\n",
    "    num = w.Num.text()\n",
    "    base = w.CB.currentText()\n",
    "    \n",
    "    res = conv(num, int(base))\n",
    "    \n",
    "    w.Res.setText(str(res))"
   ]
  },
  {
   "cell_type": "code",
   "execution_count": 5,
   "metadata": {},
   "outputs": [
    {
     "data": {
      "text/plain": [
       "0"
      ]
     },
     "execution_count": 5,
     "metadata": {},
     "output_type": "execute_result"
    }
   ],
   "source": [
    "app = QApplication([])\n",
    "w = loadUi(\"conversion.ui\")\n",
    "w.show()\n",
    "w.But.clicked.connect(Play)\n",
    "app.exec()"
   ]
  }
 ],
 "metadata": {
  "kernelspec": {
   "display_name": "Python 3",
   "language": "python",
   "name": "python3"
  },
  "language_info": {
   "codemirror_mode": {
    "name": "ipython",
    "version": 3
   },
   "file_extension": ".py",
   "mimetype": "text/x-python",
   "name": "python",
   "nbconvert_exporter": "python",
   "pygments_lexer": "ipython3",
   "version": "3.11.9"
  }
 },
 "nbformat": 4,
 "nbformat_minor": 2
}
