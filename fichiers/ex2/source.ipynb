{
 "cells": [
  {
   "cell_type": "code",
   "execution_count": 28,
   "metadata": {},
   "outputs": [],
   "source": [
    "from numpy import array\n",
    "from random import randint"
   ]
  },
  {
   "cell_type": "code",
   "execution_count": 29,
   "metadata": {},
   "outputs": [],
   "source": [
    "def saisie():\n",
    "    N  = int(input(\"donner N: \"))\n",
    "    while not 3 <= N <=  15:\n",
    "        N = int(input(\"donner N (3 <= N <= 15):\"))\n",
    "    return N"
   ]
  },
  {
   "cell_type": "code",
   "execution_count": 30,
   "metadata": {},
   "outputs": [],
   "source": [
    "def remplir_txt(N, source):\n",
    "    for i in range(N):\n",
    "        ch = input(\"donner une chaine numerique: \")\n",
    "        while not ch.isdecimal():\n",
    "            ch = input(\"donner une chaine numerique: \")\n",
    "        source.write(ch + \"\\n\")"
   ]
  },
  {
   "cell_type": "code",
   "execution_count": 31,
   "metadata": {},
   "outputs": [],
   "source": [
    "def remplir_matrice(N, source, M):\n",
    "    source = open(\"Source.txt\", \"r\")\n",
    "    i = 0\n",
    "    j = 0\n",
    "    while i != N:\n",
    "        ch = source.readline()\n",
    "        ch = ch[:len(ch) - 1]\n",
    "        while j != N:\n",
    "            while len(ch) != N:\n",
    "                    if len(ch) > N:\n",
    "                        ch = ch[: len(ch) - 1]\n",
    "                    elif len(ch) < N:\n",
    "                        ch = str(randint(1, 9)) + ch\n",
    "            M[i, j] = ch[j]\n",
    "            j += 1\n",
    "        i += 1\n",
    "        j = 0\n",
    "    source.close()"
   ]
  },
  {
   "cell_type": "markdown",
   "metadata": {},
   "source": [
    "PP\n"
   ]
  },
  {
   "cell_type": "code",
   "execution_count": 32,
   "metadata": {},
   "outputs": [
    {
     "name": "stdout",
     "output_type": "stream",
     "text": [
      "[[9 0 4 3 1]\n",
      " [8 5 5 7 2]\n",
      " [7 8 9 4 5]\n",
      " [1 2 3 4 5]\n",
      " [6 4 1 6 8]]\n"
     ]
    }
   ],
   "source": [
    "source = open(\"Source.txt\", \"w\")\n",
    "N  = saisie()\n",
    "M = array([[int()] * N] * N)\n",
    "T  = array([int()] * N)\n",
    "remplir_txt(N, source)\n",
    "source.close()\n",
    "remplir_matrice(N, source, M)\n",
    "print(M)"
   ]
  }
 ],
 "metadata": {
  "kernelspec": {
   "display_name": "Python 3",
   "language": "python",
   "name": "python3"
  },
  "language_info": {
   "codemirror_mode": {
    "name": "ipython",
    "version": 3
   },
   "file_extension": ".py",
   "mimetype": "text/x-python",
   "name": "python",
   "nbconvert_exporter": "python",
   "pygments_lexer": "ipython3",
   "version": "3.11.9"
  }
 },
 "nbformat": 4,
 "nbformat_minor": 2
}
