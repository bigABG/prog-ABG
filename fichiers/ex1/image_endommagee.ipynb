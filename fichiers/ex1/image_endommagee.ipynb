{
 "cells": [
  {
   "cell_type": "code",
   "execution_count": 9,
   "metadata": {},
   "outputs": [],
   "source": [
    "from numpy import array\n",
    "from pickle import load, dump\n",
    "from random import randint"
   ]
  },
  {
   "cell_type": "code",
   "execution_count": 10,
   "metadata": {},
   "outputs": [],
   "source": [
    "def saisie():\n",
    "    n = int(input(\"donner \" + str(n) + \": \"))\n",
    "    while n > 100:\n",
    "        n = int(input(\"donner \" + str(n) + \": \"))\n",
    "    return n"
   ]
  },
  {
   "cell_type": "code",
   "execution_count": 11,
   "metadata": {},
   "outputs": [],
   "source": [
    "def remplir_fiche(IMG, IMGRec):\n",
    "    m = int(input(\"donner la taille du fichier: \"))\n",
    "\n",
    "    for i in range(m):\n",
    "        if i == 0:\n",
    "            IMG[\"X\"] = int(input(\"donner i: \"))\n",
    "            x = IMG[\"X\"]\n",
    "            while IMG[\"X\"] > 100:\n",
    "                IMG[\"X\"] = int(input(\"donner i: \"))\n",
    "                x = IMG[\"X\"]\n",
    "                \n",
    "            IMG[\"Y\"] = int(input(\"donner j: \"))\n",
    "            y = IMG[\"Y\"]\n",
    "            while IMG[\"Y\"] > 100:\n",
    "                IMG[\"Y\"] = int(input(\"donner j: \"))\n",
    "                y = IMG[\"Y\"]\n",
    "            dump(IMG, IMGRec)\n",
    "        else:\n",
    "            IMG[\"X\"] = randint(0, x)\n",
    "            \n",
    "            while IMG[\"X\"] >= x and IMG[\"X\"] <= 10:\n",
    "                IMG[\"X\"] = randint(0, x)\n",
    "            IMG[\"Y\"] = randint(0, y)\n",
    "            \n",
    "            while IMG[\"Y\"] >= y and IMG[\"Y\"] <= 10:\n",
    "                IMG[\"Y\"] = randint(0, y)\n",
    "            \n",
    "            IMG[\"C\"] = randint(0, 10)\n",
    "            while IMG[\"C\"] >= 10:\n",
    "                IMG[\"C\"] = randint(0, 10)\n",
    "            dump(IMG, IMGRec)\n",
    "            "
   ]
  },
  {
   "cell_type": "code",
   "execution_count": 12,
   "metadata": {},
   "outputs": [],
   "source": [
    "def indice_x(IMGRec):\n",
    "    IMGRec = open(\"IMGRec.dat\", \"rb\")\n",
    "    i = 0\n",
    "    while i == 0:\n",
    "        E = load(IMGRec)\n",
    "        x = E[\"X\"]\n",
    "        i += 1\n",
    "    IMGRec.close()\n",
    "    return x"
   ]
  },
  {
   "cell_type": "code",
   "execution_count": 13,
   "metadata": {},
   "outputs": [],
   "source": [
    "def indice_y(IMGRec):\n",
    "    IMGRec = open(\"IMGRec.dat\", \"rb\")\n",
    "    i = 0\n",
    "    while i == 0:\n",
    "        E = load(IMGRec)\n",
    "        y = E[\"Y\"]\n",
    "        i += 1\n",
    "    IMGRec.close()\n",
    "    return y"
   ]
  },
  {
   "cell_type": "code",
   "execution_count": 14,
   "metadata": {},
   "outputs": [],
   "source": [
    "def remplir1(M, x, y):\n",
    "    for i in range(x):\n",
    "        for j in range(y):\n",
    "            M[i, j] = -1"
   ]
  },
  {
   "cell_type": "code",
   "execution_count": 15,
   "metadata": {},
   "outputs": [],
   "source": [
    "def remplir2(M, IMGRec):\n",
    "        IMGRec = open(\"IMGRec.dat\", \"rb\")\n",
    "\n",
    "        fin_fichier = False\n",
    "        while fin_fichier == False:\n",
    "            try:\n",
    "                E = load(IMGRec)\n",
    "                i = E[\"X\"]\n",
    "                j = E[\"Y\"]\n",
    "                M[i, j] = E[\"C\"]\n",
    "\n",
    "            except:\n",
    "                fin_fichier = True\n",
    "        IMGRec.close()"
   ]
  },
  {
   "cell_type": "code",
   "execution_count": 16,
   "metadata": {},
   "outputs": [
    {
     "name": "stdout",
     "output_type": "stream",
     "text": [
      "[[0 0 0 0 0]\n",
      " [0 0 0 0 0]\n",
      " [0 0 0 0 0]\n",
      " [0 0 0 0 0]]\n"
     ]
    }
   ],
   "source": [
    "IMG = {\n",
    "    'X' : int(),\n",
    "    'Y' : int(),\n",
    "    'C' : int() \n",
    "}\n",
    "\n",
    "IMGRec = open(\"IMGRec.dat\", \"wb\")\n",
    "remplir_fiche(IMG, IMGRec)\n",
    "IMGRec.close()\n",
    "x = indice_x(IMGRec)\n",
    "y = indice_y(IMGRec)\n",
    "M = array([[int()] * y] * x)\n",
    "\n",
    "remplir2(M, IMGRec)\n",
    "print(M)\n",
    "    "
   ]
  }
 ],
 "metadata": {
  "kernelspec": {
   "display_name": "Python 3",
   "language": "python",
   "name": "python3"
  },
  "language_info": {
   "codemirror_mode": {
    "name": "ipython",
    "version": 3
   },
   "file_extension": ".py",
   "mimetype": "text/x-python",
   "name": "python",
   "nbconvert_exporter": "python",
   "pygments_lexer": "ipython3",
   "version": "3.11.9"
  }
 },
 "nbformat": 4,
 "nbformat_minor": 2
}
