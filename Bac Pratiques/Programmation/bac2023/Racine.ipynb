{
 "cells": [
  {
   "cell_type": "code",
   "execution_count": 1,
   "id": "41dd0ea5",
   "metadata": {},
   "outputs": [],
   "source": [
    "from PyQt5.QtWidgets import *\n",
    "from PyQt5.uic import *\n",
    "from pickle import load, dump"
   ]
  },
  {
   "cell_type": "code",
   "execution_count": 2,
   "id": "a1dc1cfe",
   "metadata": {},
   "outputs": [],
   "source": [
    "def puissance(x, p):\n",
    "    r = 1\n",
    "    for i in range(p):\n",
    "        r *= x\n",
    "    return r"
   ]
  },
  {
   "cell_type": "code",
   "execution_count": 3,
   "id": "e868a0ac",
   "metadata": {},
   "outputs": [],
   "source": [
    "def grand_entier(x):\n",
    "    p = 1\n",
    "    while not (puissance(p, 2) > x):\n",
    "        p += 1\n",
    "    return p - 1"
   ]
  },
  {
   "cell_type": "code",
   "execution_count": 4,
   "id": "1b71eab9",
   "metadata": {},
   "outputs": [],
   "source": [
    "def suite(n, x):\n",
    "    if  n == 0:\n",
    "        return grand_entier(x)\n",
    "    else:\n",
    "        return (1/2) * (suite(n - 1, x) + (x / suite(n - 1, x)))"
   ]
  },
  {
   "cell_type": "code",
   "execution_count": 5,
   "id": "1df81fe3",
   "metadata": {},
   "outputs": [
    {
     "data": {
      "text/plain": [
       "5.3851648071730605"
      ]
     },
     "execution_count": 5,
     "metadata": {},
     "output_type": "execute_result"
    }
   ],
   "source": [
    "def calcul(eps, x):\n",
    "    i = 1\n",
    "    U_initiale = suite(i - 1, x)\n",
    "    U_finale = suite(i, x)\n",
    "    while not abs(U_finale - U_initiale) <= eps:\n",
    "        i += 1\n",
    "        U_initiale = suite(i - 1, x)\n",
    "        U_finale = suite(i, x)\n",
    "    else:\n",
    "        return U_finale\n",
    "    \n",
    "calcul(0.00005,29)"
   ]
  },
  {
   "cell_type": "code",
   "execution_count": 6,
   "id": "446f90d1",
   "metadata": {},
   "outputs": [],
   "source": [
    "def racine():\n",
    "    approchee = open(\"approchee.dat\", \"ab\")\n",
    "    E = {\n",
    "        \"x\": int(),\n",
    "        \"RC\": int()\n",
    "    }\n",
    "    x = w.num.text()\n",
    "    \n",
    "    if x.isdecimal() == False:\n",
    "        QMessageBox.critical(w, \"Erreur\", \"Veuillez saisir une valeur numerique\")\n",
    "    elif x == \"\":\n",
    "        QMessageBox.critical(w, \"Erreur\", \"Veuillez saisir une valeur numerique\")\n",
    "    elif not(2 <= int(x) <= 200):\n",
    "        QMessageBox.critical(w, \"Erreur\", \"Veuillez saisir une valeur entre 2 et 200\")\n",
    "    else:\n",
    "        i = 1\n",
    "        E[\"x\"] = int(x)\n",
    "        E[\"RC\"] = calcul(0.00001, int(x))\n",
    "        dump(E, approchee)\n",
    "        approchee.close()"
   ]
  },
  {
   "cell_type": "code",
   "execution_count": null,
   "id": "4e1ed3a2",
   "metadata": {},
   "outputs": [],
   "source": [
    "def afficher():\n",
    "    approchee = open(\"approchee.dat\", \"rb\")\n",
    "    Fin_Ficher = False\n",
    "    i = 0\n",
    "    while Fin_Ficher == False:\n",
    "        try:\n",
    "            E = load(approchee)\n",
    "            w.TAB.insertRow(i)\n",
    "            w.TAB.setItem(i, 0, QTableWidgetItem(str(E[\"x\"])))\n",
    "            w.TAB.setItem(i, 1, QTableWidgetItem(str(E[\"RC\"])))\n",
    "            i += 1\n",
    "        except:\n",
    "            Fin_Ficher == True\n",
    "            approchee.close()"
   ]
  },
  {
   "cell_type": "code",
   "execution_count": null,
   "id": "e5222563",
   "metadata": {},
   "outputs": [
    {
     "ename": "KeyboardInterrupt",
     "evalue": "",
     "output_type": "error",
     "traceback": [
      "\u001b[1;31m---------------------------------------------------------------------------\u001b[0m",
      "\u001b[1;31mEOFError\u001b[0m                                  Traceback (most recent call last)",
      "Input \u001b[1;32mIn [7]\u001b[0m, in \u001b[0;36mafficher\u001b[1;34m()\u001b[0m\n\u001b[0;32m      6\u001b[0m \u001b[38;5;28;01mtry\u001b[39;00m:\n\u001b[1;32m----> 7\u001b[0m     E \u001b[38;5;241m=\u001b[39m \u001b[43mload\u001b[49m\u001b[43m(\u001b[49m\u001b[43mapprochee\u001b[49m\u001b[43m)\u001b[49m\n\u001b[0;32m      8\u001b[0m     w\u001b[38;5;241m.\u001b[39mTAB\u001b[38;5;241m.\u001b[39minsertRow(i)\n",
      "\u001b[1;31mEOFError\u001b[0m: Ran out of input",
      "\nDuring handling of the above exception, another exception occurred:\n",
      "\u001b[1;31mKeyboardInterrupt\u001b[0m                         Traceback (most recent call last)",
      "Input \u001b[1;32mIn [7]\u001b[0m, in \u001b[0;36mafficher\u001b[1;34m()\u001b[0m\n\u001b[0;32m      5\u001b[0m \u001b[38;5;28;01mwhile\u001b[39;00m Fin_Ficher \u001b[38;5;241m==\u001b[39m \u001b[38;5;28;01mFalse\u001b[39;00m:\n\u001b[0;32m      6\u001b[0m     \u001b[38;5;28;01mtry\u001b[39;00m:\n\u001b[1;32m----> 7\u001b[0m         E \u001b[38;5;241m=\u001b[39m \u001b[43mload\u001b[49m\u001b[43m(\u001b[49m\u001b[43mapprochee\u001b[49m\u001b[43m)\u001b[49m\n\u001b[0;32m      8\u001b[0m         w\u001b[38;5;241m.\u001b[39mTAB\u001b[38;5;241m.\u001b[39minsertRow(i)\n\u001b[0;32m      9\u001b[0m         w\u001b[38;5;241m.\u001b[39mTAB\u001b[38;5;241m.\u001b[39msetItem(i, \u001b[38;5;241m0\u001b[39m, QTableWidgetItem(\u001b[38;5;28mstr\u001b[39m(E[\u001b[38;5;124m\"\u001b[39m\u001b[38;5;124mx\u001b[39m\u001b[38;5;124m\"\u001b[39m])))\n",
      "\u001b[1;31mKeyboardInterrupt\u001b[0m: "
     ]
    }
   ],
   "source": [
    "app = QApplication([])\n",
    "w = loadUi(\"Interface_Racine.ui\")\n",
    "w.show()\n",
    "w.BtnAj.clicked.connect(racine)\n",
    "w.BtnAff.clicked.connect(afficher)\n",
    "app.exec()"
   ]
  },
  {
   "cell_type": "code",
   "execution_count": null,
   "id": "a1f53ac4",
   "metadata": {},
   "outputs": [],
   "source": [
    "calcul(0.00001, 29)"
   ]
  }
 ],
 "metadata": {
  "kernelspec": {
   "display_name": "base",
   "language": "python",
   "name": "python3"
  },
  "language_info": {
   "codemirror_mode": {
    "name": "ipython",
    "version": 3
   },
   "file_extension": ".py",
   "mimetype": "text/x-python",
   "name": "python",
   "nbconvert_exporter": "python",
   "pygments_lexer": "ipython3",
   "version": "3.9.12"
  }
 },
 "nbformat": 4,
 "nbformat_minor": 5
}
