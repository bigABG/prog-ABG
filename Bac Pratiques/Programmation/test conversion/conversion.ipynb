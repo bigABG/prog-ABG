{
 "cells": [
  {
   "cell_type": "markdown",
   "id": "fe2f65b2",
   "metadata": {},
   "source": [
    "Base10------->Omnibase"
   ]
  },
  {
   "cell_type": "code",
   "execution_count": 1,
   "id": "3763f723",
   "metadata": {},
   "outputs": [
    {
     "data": {
      "text/plain": [
       "'01'"
      ]
     },
     "execution_count": 1,
     "metadata": {},
     "output_type": "execute_result"
    }
   ],
   "source": [
    "def conv_omnibase(n, b):\n",
    "    ch = \"\"\n",
    "    ch1 = \"\"\n",
    "    while n != 0:\n",
    "        if b >= 10:\n",
    "            if not(n % 10 < 10):\n",
    "                ch = ch + chr(ord(\"A\") + (n % b) - 10)\n",
    "            else:\n",
    "                ch += str(n % b)\n",
    "            n = n // b\n",
    "        else:\n",
    "            ch += str(n % b)\n",
    "            n = n // b\n",
    "    for i in range(len(ch)):\n",
    "        ch1 = ch[i] + ch1\n",
    "    return ch1\n",
    "conv_omnibase(10, 16)"
   ]
  },
  {
   "cell_type": "markdown",
   "id": "de17f8fc",
   "metadata": {},
   "source": [
    "Omnibase------->Base10"
   ]
  },
  {
   "cell_type": "code",
   "execution_count": 2,
   "id": "09e1d09a",
   "metadata": {},
   "outputs": [],
   "source": [
    "def puissance(n, p):\n",
    "    s = 1\n",
    "    for i in range(p):\n",
    "        s *= n\n",
    "    return s"
   ]
  },
  {
   "cell_type": "code",
   "execution_count": null,
   "id": "ec6e1fd0",
   "metadata": {},
   "outputs": [],
   "source": [
    "def conv(ch, base):\n",
    "    s = 0\n",
    "    for i in range(len(ch)):\n",
    "        if '0' <= ch[i] <= '9':\n",
    "            k = int(ch[i])\n",
    "        else:\n",
    "            k = ord(ch[i]) - 55\n",
    "        s = s + k*puissance(base,len(ch) - i - 1)\n",
    "    return s"
   ]
  }
 ],
 "metadata": {
  "kernelspec": {
   "display_name": "Python 3",
   "language": "python",
   "name": "python3"
  },
  "language_info": {
   "codemirror_mode": {
    "name": "ipython",
    "version": 3
   },
   "file_extension": ".py",
   "mimetype": "text/x-python",
   "name": "python",
   "nbconvert_exporter": "python",
   "pygments_lexer": "ipython3",
   "version": "3.10.11"
  }
 },
 "nbformat": 4,
 "nbformat_minor": 5
}
