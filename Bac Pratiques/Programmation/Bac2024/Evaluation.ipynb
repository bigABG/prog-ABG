{
 "cells": [
  {
   "cell_type": "code",
   "execution_count": null,
   "id": "bf0e673c",
   "metadata": {},
   "outputs": [],
   "source": [
    "def recherche(ch):\n",
    "    i = 0\n",
    "    test = True\n",
    "    while (i != len(ch) and test != False ):\n",
    "        if ch[i].isdecimal() == True:\n",
    "            i += 1\n",
    "        else:\n",
    "            test = False\n",
    "            res = ch[i]\n",
    "    return res"
   ]
  },
  {
   "cell_type": "code",
   "execution_count": null,
   "id": "a50fb3fe",
   "metadata": {},
   "outputs": [],
   "source": [
    "def evaluation_somme(ch):\n",
    "    symbol = ch.find(\"+\")\n",
    "    if symbol == len(ch) - 1:\n",
    "        return int(ch[:symbol])\n",
    "    else:\n",
    "        return int(ch[:symbol]) + evaluation_somme(ch[symbol + 1:])"
   ]
  },
  {
   "cell_type": "code",
   "execution_count": null,
   "id": "c4f31656",
   "metadata": {},
   "outputs": [],
   "source": [
    "def evaluation_sub(ch):\n",
    "    symbol = ch.find(\"-\")\n",
    "    if symbol == len(ch) - 1:\n",
    "        return int(ch[:symbol])\n",
    "    else:\n",
    "        return int(ch[:symbol]) - evaluation_sub(ch[symbol + 1:])"
   ]
  },
  {
   "cell_type": "code",
   "execution_count": null,
   "id": "fe0c31db",
   "metadata": {},
   "outputs": [
    {
     "data": {
      "text/plain": [
       "30"
      ]
     },
     "execution_count": 1,
     "metadata": {},
     "output_type": "execute_result"
    }
   ],
   "source": [
    "def evaluation_multi(ch):\n",
    "    symbol = ch.find(\"*\")\n",
    "    if symbol == len(ch) - 1:\n",
    "        return int(ch[:symbol])\n",
    "    else:\n",
    "        return int(ch[:symbol]) * evaluation_multi(ch[symbol + 1:])"
   ]
  },
  {
   "cell_type": "code",
   "execution_count": null,
   "id": "806a0a21",
   "metadata": {},
   "outputs": [],
   "source": [
    "def evaluer(ch):\n",
    "    symbol = recherche(ch)\n",
    "    s = int(ch[: ch.find(symbol)])\n",
    "    ch = ch[ch.find(symbol) + 1:]\n",
    "    \n",
    "    while ch != \"\":\n",
    "        if symbol == \"+\":\n",
    "            if ch.find(symbol) != -1:\n",
    "                s += int(ch[: ch.find(symbol)])\n",
    "                ch = ch[ch.find(symbol) + 1:]\n",
    "            else:\n",
    "                s += int(ch)\n",
    "                ch = \"\"\n",
    "            \n",
    "        elif symbol == \"-\":\n",
    "            if ch.find(symbol) != -1:\n",
    "                s -= int(ch[: ch.find(symbol)])\n",
    "                ch = ch[ch.find(symbol) + 1:]\n",
    "            else:\n",
    "                s -= int(ch)\n",
    "                ch = \"\"\n",
    "                \n",
    "        else:\n",
    "            if ch.find(symbol) != -1:\n",
    "                s *= int(ch[: ch.find(symbol)])\n",
    "                ch = ch[ch.find(symbol) + 1:]\n",
    "            else:\n",
    "                s *= int(ch)\n",
    "                ch = \"\"\n",
    "    return s"
   ]
  },
  {
   "cell_type": "markdown",
   "id": "db500a2b",
   "metadata": {},
   "source": [
    "PP"
   ]
  },
  {
   "cell_type": "code",
   "execution_count": null,
   "id": "e2da3a98",
   "metadata": {},
   "outputs": [],
   "source": [
    "Eleve = {\n",
    "    \"id\": str(),\n",
    "    \"exp\": str(),\n",
    "    \"rep\": str(),\n",
    "    \"valid\": str()\n",
    "}"
   ]
  }
 ],
 "metadata": {
  "kernelspec": {
   "display_name": "Python 3",
   "language": "python",
   "name": "python3"
  },
  "language_info": {
   "codemirror_mode": {
    "name": "ipython",
    "version": 3
   },
   "file_extension": ".py",
   "mimetype": "text/x-python",
   "name": "python",
   "nbconvert_exporter": "python",
   "pygments_lexer": "ipython3",
   "version": "3.10.11"
  }
 },
 "nbformat": 4,
 "nbformat_minor": 5
}
