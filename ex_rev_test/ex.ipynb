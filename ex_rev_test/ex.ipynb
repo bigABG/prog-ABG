{
 "cells": [
  {
   "cell_type": "code",
   "execution_count": 5,
   "metadata": {},
   "outputs": [],
   "source": [
    "from numpy import array\n",
    "from pickle import load, dump\n",
    "from random import randint"
   ]
  },
  {
   "cell_type": "code",
   "execution_count": 2,
   "metadata": {},
   "outputs": [],
   "source": [
    "def saisie():\n",
    "    n = int(input(\"donner la taille du tab: \"))\n",
    "    while not 4 <= n <= 16:\n",
    "        n = int(input(\"donner la taille du tab: \"))\n",
    "    return n"
   ]
  },
  {
   "cell_type": "code",
   "execution_count": null,
   "metadata": {},
   "outputs": [],
   "source": [
    "def remplir(E, T):\n",
    "    f = open(\"TruthDare.dat\", \"wb\")\n",
    "    for i in range(16):\n",
    "        E[\"Truth\"] = input(\"type your Truth: \")\n",
    "        E[\"Dare\"] = input(\"type your Dare: \")\n",
    "        E[\"Tries\"] = 0\n",
    "        T[i] = E\n",
    "    dump(T, f)\n",
    "    f.close()"
   ]
  },
  {
   "cell_type": "code",
   "execution_count": null,
   "metadata": {},
   "outputs": [],
   "source": [
    "def exct(T, f):\n",
    "    f = open(\"TruthDare.dat\", \"rb\")\n",
    "    alea1 = randint(0, 15)\n",
    "    alea2 = randint(1, 2)\n",
    "    "
   ]
  },
  {
   "cell_type": "markdown",
   "metadata": {},
   "source": [
    "PP"
   ]
  },
  {
   "cell_type": "code",
   "execution_count": null,
   "metadata": {},
   "outputs": [],
   "source": [
    "E = {\n",
    "    \"Truth\" : str(),\n",
    "    \"Dare\" : str(),\n",
    "    \"Tries\" : int()\n",
    "}"
   ]
  }
 ],
 "metadata": {
  "kernelspec": {
   "display_name": "Python 3",
   "language": "python",
   "name": "python3"
  },
  "language_info": {
   "codemirror_mode": {
    "name": "ipython",
    "version": 3
   },
   "file_extension": ".py",
   "mimetype": "text/x-python",
   "name": "python",
   "nbconvert_exporter": "python",
   "pygments_lexer": "ipython3",
   "version": "3.11.9"
  }
 },
 "nbformat": 4,
 "nbformat_minor": 2
}
